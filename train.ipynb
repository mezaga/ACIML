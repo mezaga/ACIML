{
 "cells": [
  {
   "cell_type": "code",
   "execution_count": 1,
   "metadata": {},
   "outputs": [],
   "source": [
    "import tensorflow as tf\n",
    "import keras\n",
    "from keras.layers import Conv2D, Conv2DTranspose, Input, Flatten, Dense, Lambda, Reshape\n",
    "from keras import layers\n",
    "#from keras.layers import BatchNormalization\n",
    "from keras.models import Model\n",
    "from keras import backend as K\n",
    "import numpy as np\n",
    "import matplotlib.pyplot as plt\n",
    "from sklearn.decomposition import  PCA\n",
    "from mpl_toolkits.mplot3d import Axes3D\n",
    "import IPython\n",
    "import librosa.display\n",
    "import librosa\n",
    "import pickle"
   ]
  },
  {
   "cell_type": "code",
   "execution_count": 2,
   "metadata": {},
   "outputs": [
    {
     "name": "stdout",
     "output_type": "stream",
     "text": [
      "TensorFlow has access to the following devices:\n",
      "[PhysicalDevice(name='/physical_device:CPU:0', device_type='CPU'), PhysicalDevice(name='/physical_device:GPU:0', device_type='GPU')]\n",
      "TensorFlow version: 2.9.0\n"
     ]
    }
   ],
   "source": [
    "print(f\"TensorFlow has access to the following devices:\\n{tf.config.list_physical_devices()}\")\n",
    "\n",
    "# See TensorFlow version\n",
    "print(f\"TensorFlow version: {tf.__version__}\")"
   ]
  },
  {
   "cell_type": "code",
   "execution_count": 35,
   "metadata": {},
   "outputs": [],
   "source": [
    "optimizer = tf.keras.optimizers.Adam(0.0001)\n",
    "latent_dim = 128\n",
    "sr = 48000\n",
    "fx = [\"Clean\", \"TubeScreamer\", \"BluesDriver\", \"RAT\", \"Chorus\", \"Phaser\", \"Flanger\", \"Tape Echo\",\"Sweep Echo\", \"Digital Delay\", \"Hall Reverb\", \"PlateReverb\", \"Spring Reverb\"]\n"
   ]
  },
  {
   "cell_type": "code",
   "execution_count": 46,
   "metadata": {},
   "outputs": [
    {
     "name": "stdout",
     "output_type": "stream",
     "text": [
      "(5000, 192000)\n"
     ]
    }
   ],
   "source": [
    "with open('/Users/mezaga93/Desktop/sintesis_aciml.pkl', 'rb') as f:\n",
    "  waveforms = pickle.load(f)\n",
    "print(waveforms.shape)"
   ]
  },
  {
   "cell_type": "code",
   "execution_count": 49,
   "metadata": {},
   "outputs": [
    {
     "name": "stdout",
     "output_type": "stream",
     "text": [
      "(600, 48000)\n"
     ]
    }
   ],
   "source": [
    "waveforms = waveforms[:600, :48000]\n",
    "print(waveforms.shape)"
   ]
  },
  {
   "cell_type": "code",
   "execution_count": 23,
   "metadata": {},
   "outputs": [],
   "source": [
    "waveforms = waveforms[:850]"
   ]
  },
  {
   "cell_type": "code",
   "execution_count": 50,
   "metadata": {},
   "outputs": [
    {
     "name": "stdout",
     "output_type": "stream",
     "text": [
      "(600, 48000)\n"
     ]
    }
   ],
   "source": [
    "###normalizar y cambio de dimensionalidad\n",
    "mu_wave = np.mean(waveforms, axis= 1)[...,np.newaxis]\n",
    "max_wave = np.max(waveforms, axis=1)[...,np.newaxis]\n",
    "\n",
    "Xw = (waveforms- mu_wave)/max_wave\n",
    "print(Xw.shape)"
   ]
  },
  {
   "cell_type": "code",
   "execution_count": 51,
   "metadata": {},
   "outputs": [
    {
     "name": "stdout",
     "output_type": "stream",
     "text": [
      "(600, 48000, 1, 1)\n"
     ]
    }
   ],
   "source": [
    "#####reshape de los datos\n",
    "Xw = Xw[...,np.newaxis][...,np.newaxis]\n",
    "print(Xw.shape)"
   ]
  },
  {
   "cell_type": "code",
   "execution_count": 81,
   "metadata": {},
   "outputs": [],
   "source": [
    "class Sampling(layers.Layer):\n",
    "    \"\"\"Uses (z_mean, z_log_var) to sample z, the vector encoding a digit.\"\"\"\n",
    "    #@tf.function\n",
    "    def call(self, inputs):\n",
    "        z_mean, z_log_var = inputs\n",
    "        #z_mean = np.array([input[0]])\n",
    "        #z_log_var = np.array([input[1]])\n",
    "        batch = tf.shape(z_mean)[0]\n",
    "        dim = tf.shape(z_mean)[1]\n",
    "        epsilon = tf.keras.backend.random_normal(shape=(batch, dim))\n",
    "        return z_mean + tf.exp(0.5 * z_log_var) * epsilon"
   ]
  },
  {
   "cell_type": "code",
   "execution_count": 82,
   "metadata": {},
   "outputs": [],
   "source": [
    "class KLDivergenceRegularizer(tf.keras.regularizers.Regularizer):\n",
    "  def __init__(self, iters: tf.Variable, warm_up_iters: int, latent_size: int):\n",
    "    self._iters = np.array([iters])\n",
    "    self._warm_up_iters = np.array([warm_up_iters])\n",
    "    self.latent_size = latent_size\n",
    "  \n",
    "  @tf.function\n",
    "  def __call__(self, activation):\n",
    "    # note: activity regularizers automatically divide by batch size\n",
    "    mu= activation[:self.latent_size]\n",
    "    log_var = activation[self.latent_size:]\n",
    "    k = np.min(self._iters / self._warm_up_iters)\n",
    "    return -0.5 * k * K.sum(1+ log_var - K.square(mu) - K.exp(log_var))"
   ]
  },
  {
   "cell_type": "code",
   "execution_count": 83,
   "metadata": {},
   "outputs": [],
   "source": [
    "warm_up_iters = 1000 \n",
    "optimizer = tf.keras.optimizers.Adam(0.001)"
   ]
  },
  {
   "cell_type": "code",
   "execution_count": 88,
   "metadata": {},
   "outputs": [
    {
     "name": "stdout",
     "output_type": "stream",
     "text": [
      "Model: \"encoder_vae\"\n",
      "__________________________________________________________________________________________________\n",
      " Layer (type)                   Output Shape         Param #     Connected to                     \n",
      "==================================================================================================\n",
      " input_13 (InputLayer)          [(None, 48000, 1, 1  0           []                               \n",
      "                                )]                                                                \n",
      "                                                                                                  \n",
      " conv2d_24 (Conv2D)             (None, 12000, 1, 64  7936        ['input_13[0][0]']               \n",
      "                                )                                                                 \n",
      "                                                                                                  \n",
      " conv2d_25 (Conv2D)             (None, 3000, 1, 128  1007744     ['conv2d_24[0][0]']              \n",
      "                                )                                                                 \n",
      "                                                                                                  \n",
      " conv2d_26 (Conv2D)             (None, 750, 1, 256)  4030720     ['conv2d_25[0][0]']              \n",
      "                                                                                                  \n",
      " flatten_6 (Flatten)            (None, 192000)       0           ['conv2d_26[0][0]']              \n",
      "                                                                                                  \n",
      " dense_12 (Dense)               (None, 256)          49152256    ['flatten_6[0][0]']              \n",
      "                                                                                                  \n",
      " Z-Mean (Dense)                 (None, 256)          65792       ['dense_12[0][0]']               \n",
      "                                                                                                  \n",
      " Z-Log-Sigma (Dense)            (None, 256)          65792       ['dense_12[0][0]']               \n",
      "                                                                                                  \n",
      " sampling_6 (Sampling)          (None, 256)          0           ['Z-Mean[0][0]',                 \n",
      "                                                                  'Z-Log-Sigma[0][0]']            \n",
      "                                                                                                  \n",
      "==================================================================================================\n",
      "Total params: 54,330,240\n",
      "Trainable params: 54,330,240\n",
      "Non-trainable params: 0\n",
      "__________________________________________________________________________________________________\n"
     ]
    }
   ],
   "source": [
    "latent_dim = 128\n",
    "original_dim = (sr16k, 1, 1)\n",
    "encoder_inputs = keras.Input(original_dim)                                                   # bat, samps, ?, ch\n",
    "x = layers.Conv2D(64, (66,1), activation=\"relu\", padding=\"same\",strides=(4,1))(encoder_inputs) # [69, 48000, 1, 1] -> [69, 12000, 1, 64]\n",
    "x = layers.Conv2D(128,(66,1), activation=\"relu\", padding=\"same\",strides=(4,1))(x)\n",
    "x = layers.Conv2D(256,(66,1), activation=\"relu\", padding=\"same\",strides=(4,1))(x)\n",
    "latent = layers.Conv2D(512,(66,1), activation=\"relu\", padding=\"same\",strides=(3,1))(x)\n",
    "x = layers.Flatten()(x)\n",
    "x = layers.Dense(256, activation=\"relu\")(x)\n",
    "z_mean = layers.Dense(units=latent_dim, name='Z-Mean')(x) # Mean component\n",
    "z_log_sigma = layers.Dense(units=latent_dim, name='Z-Log-Sigma')(x) # Standard deviation component\n",
    "#######que pasa con z_regular nunca se usa?\n",
    "z_regular = tf.keras.layers.Concatenate(activity_regularizer= KLDivergenceRegularizer(optimizer.iterations, warm_up_iters,latent_dim))([z_mean,z_log_sigma])\n",
    "z = Sampling()([z_mean, z_log_sigma])\n",
    "#z = Sampling()(z_regular)\n",
    "vae_encoder = keras.Model(encoder_inputs, [z_mean, z_log_sigma, z], name=\"encoder_vae\")\n",
    "vae_encoder.summary()"
   ]
  },
  {
   "cell_type": "code",
   "execution_count": 89,
   "metadata": {},
   "outputs": [
    {
     "name": "stdout",
     "output_type": "stream",
     "text": [
      "Model: \"decoder_vae\"\n",
      "_________________________________________________________________\n",
      " Layer (type)                Output Shape              Param #   \n",
      "=================================================================\n",
      " input_14 (InputLayer)       [(None, 256)]             0         \n",
      "                                                                 \n",
      " dense_13 (Dense)            (None, 192000)            49344000  \n",
      "                                                                 \n",
      " reshape_6 (Reshape)         (None, 750, 1, 256)       0         \n",
      "                                                                 \n",
      " conv2d_transpose_18 (Conv2D  (None, 3000, 1, 128)     4030592   \n",
      " Transpose)                                                      \n",
      "                                                                 \n",
      " conv2d_transpose_19 (Conv2D  (None, 12000, 1, 64)     1007680   \n",
      " Transpose)                                                      \n",
      "                                                                 \n",
      " conv2d_transpose_20 (Conv2D  (None, 48000, 1, 1)      7873      \n",
      " Transpose)                                                      \n",
      "                                                                 \n",
      "=================================================================\n",
      "Total params: 54,390,145\n",
      "Trainable params: 54,390,145\n",
      "Non-trainable params: 0\n",
      "_________________________________________________________________\n"
     ]
    }
   ],
   "source": [
    "latent_inputs = keras.Input(shape=(latent_dim,))\n",
    "x = layers.Dense(250 * 1 * 256, activation=\"relu\")(latent_inputs)\n",
    "x = layers.Reshape((250, 1, 256))(x)\n",
    "#x = layers.Conv2DTranspose(512,(4,1), activation=\"relu\",padding= \"same\",strides= (3,1))(x)\n",
    "x = layers.Conv2DTranspose(128,(66,1), activation=\"relu\",padding= \"same\",strides= (4,1))(x)\n",
    "x = layers.Conv2DTranspose(64,(66,1), activation=\"relu\",padding= \"same\",strides= (4,1))(x)\n",
    "#x = layers.Conv2DTranspose(64,(16,1), activation=\"relu\",padding= \"same\",strides=(4,1))(x)\n",
    "decoder_outputs = layers.Conv2DTranspose(1, (66, 1), activation=\"tanh\", padding=\"same\", strides = (4,1))(x)\n",
    "vae_decoder = keras.Model(latent_inputs, decoder_outputs, name=\"decoder_vae\")\n",
    "vae_decoder.summary()"
   ]
  },
  {
   "cell_type": "code",
   "execution_count": 90,
   "metadata": {},
   "outputs": [],
   "source": [
    "# Define outputs from a VAE model by specifying how the encoder-decoder models are linked\n",
    "outpt = vae_decoder(vae_encoder(encoder_inputs)[2]) # note, outputs available from encoder model are z_mean, z_log_sigma and z. We take z by specifying [2]\n",
    "# Instantiate a VAE model\n",
    "vae = Model(inputs=encoder_inputs, outputs=outpt, name='VAE-Model')\n",
    "vae.compile(optimizer= optimizer,loss = 'mean_squared_error')\n",
    "\n",
    "#vae.summary()"
   ]
  }
 ],
 "metadata": {
  "interpreter": {
   "hash": "3abf7a72130f284e1736e00ed38399f9b0bfafbe79ca07eb1f1dc6e0da6bca3b"
  },
  "kernelspec": {
   "display_name": "Python 3.9.1",
   "language": "python",
   "name": "python3"
  },
  "language_info": {
   "codemirror_mode": {
    "name": "ipython",
    "version": 3
   },
   "file_extension": ".py",
   "mimetype": "text/x-python",
   "name": "python",
   "nbconvert_exporter": "python",
   "pygments_lexer": "ipython3",
   "version": "3.9.1"
  },
  "orig_nbformat": 4
 },
 "nbformat": 4,
 "nbformat_minor": 2
}
