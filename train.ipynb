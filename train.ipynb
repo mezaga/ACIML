{
 "cells": [
  {
   "cell_type": "code",
   "execution_count": 1,
   "metadata": {},
   "outputs": [],
   "source": [
    "import tensorflow as tf\n",
    "import keras\n",
    "from keras.layers import Conv2D, Conv2DTranspose, Input, Flatten, Dense, Lambda, Reshape\n",
    "from keras import layers\n",
    "#from keras.layers import BatchNormalization\n",
    "from keras.models import Model\n",
    "from keras import backend as K\n",
    "import numpy as np\n",
    "import matplotlib.pyplot as plt\n",
    "from sklearn.decomposition import  PCA\n",
    "from mpl_toolkits.mplot3d import Axes3D\n",
    "import IPython\n",
    "import librosa.display\n",
    "import librosa\n",
    "import pickle"
   ]
  },
  {
   "cell_type": "code",
   "execution_count": 2,
   "metadata": {},
   "outputs": [
    {
     "name": "stdout",
     "output_type": "stream",
     "text": [
      "TensorFlow has access to the following devices:\n",
      "[PhysicalDevice(name='/physical_device:CPU:0', device_type='CPU'), PhysicalDevice(name='/physical_device:GPU:0', device_type='GPU')]\n",
      "TensorFlow version: 2.9.0\n"
     ]
    }
   ],
   "source": [
    "print(f\"TensorFlow has access to the following devices:\\n{tf.config.list_physical_devices()}\")\n",
    "\n",
    "# See TensorFlow version\n",
    "print(f\"TensorFlow version: {tf.__version__}\")"
   ]
  },
  {
   "cell_type": "code",
   "execution_count": 3,
   "metadata": {},
   "outputs": [],
   "source": [
    "optimizer = tf.keras.optimizers.Adam(0.0001)\n",
    "latent_dim = 128\n",
    "sr = 48000\n",
    "fx = [\"Clean\", \"TubeScreamer\", \"BluesDriver\", \"RAT\", \"Chorus\", \"Phaser\", \"Flanger\", \"Tape Echo\",\"Sweep Echo\", \"Digital Delay\", \"Hall Reverb\", \"PlateReverb\", \"Spring Reverb\"]\n"
   ]
  },
  {
   "cell_type": "code",
   "execution_count": 27,
   "metadata": {},
   "outputs": [
    {
     "name": "stdout",
     "output_type": "stream",
     "text": [
      "(5000, 64000)\n"
     ]
    }
   ],
   "source": [
    "with open('/Users/mezaga93/Desktop/sintesis_aciml.pkl', 'rb') as f:\n",
    "  waveforms = pickle.load(f)\n",
    "print(waveforms.shape)"
   ]
  },
  {
   "cell_type": "code",
   "execution_count": 28,
   "metadata": {},
   "outputs": [
    {
     "name": "stdout",
     "output_type": "stream",
     "text": [
      "(5000, 16000)\n"
     ]
    }
   ],
   "source": [
    "waveforms = waveforms[0:, :16000]\n",
    "print(waveforms.shape)"
   ]
  },
  {
   "cell_type": "code",
   "execution_count": 23,
   "metadata": {},
   "outputs": [],
   "source": [
    "waveforms = waveforms[:850]"
   ]
  },
  {
   "cell_type": "code",
   "execution_count": 29,
   "metadata": {},
   "outputs": [
    {
     "name": "stdout",
     "output_type": "stream",
     "text": [
      "(5000, 16000)\n"
     ]
    }
   ],
   "source": [
    "###normalizar y cambio de dimensionalidad\n",
    "mu_wave = np.mean(waveforms, axis= 1)[...,np.newaxis]\n",
    "max_wave = np.max(waveforms, axis=1)[...,np.newaxis]\n",
    "\n",
    "Xw = (waveforms- mu_wave)#/max_wave\n",
    "## para evitar la division entre ceros\n",
    "Xw = np.divide(Xw, max_wave, out=np.zeros(Xw.shape, dtype=float), where=max_wave!=0)\n",
    "print(Xw.shape)"
   ]
  },
  {
   "cell_type": "code",
   "execution_count": 30,
   "metadata": {},
   "outputs": [
    {
     "name": "stdout",
     "output_type": "stream",
     "text": [
      "(5000, 16000, 1, 1)\n"
     ]
    }
   ],
   "source": [
    "#####reshape de los datos\n",
    "Xw = Xw[...,np.newaxis][...,np.newaxis]\n",
    "print(Xw.shape)"
   ]
  },
  {
   "cell_type": "code",
   "execution_count": 31,
   "metadata": {},
   "outputs": [],
   "source": [
    "class Sampling(layers.Layer):\n",
    "    \"\"\"Uses (z_mean, z_log_var) to sample z, the vector encoding a digit.\"\"\"\n",
    "    #@tf.function\n",
    "    def call(self, inputs):\n",
    "        z_mean, z_log_var = inputs\n",
    "        #z_mean = np.array([input[0]])\n",
    "        #z_log_var = np.array([input[1]])\n",
    "        batch = tf.shape(z_mean)[0]\n",
    "        dim = tf.shape(z_mean)[1]\n",
    "        epsilon = tf.keras.backend.random_normal(shape=(batch, dim))\n",
    "        return z_mean + tf.exp(0.5 * z_log_var) * epsilon"
   ]
  },
  {
   "cell_type": "code",
   "execution_count": 32,
   "metadata": {},
   "outputs": [],
   "source": [
    "class KLDivergenceRegularizer(tf.keras.regularizers.Regularizer):\n",
    "  def __init__(self, iters: tf.Variable, warm_up_iters: int, latent_size: int):\n",
    "    self._iters = np.array([iters])\n",
    "    self._warm_up_iters = np.array([warm_up_iters])\n",
    "    self.latent_size = latent_size\n",
    "  \n",
    "  @tf.function\n",
    "  def __call__(self, activation):\n",
    "    # note: activity regularizers automatically divide by batch size\n",
    "    mu= activation[:self.latent_size]\n",
    "    log_var = activation[self.latent_size:]\n",
    "    k = np.min(self._iters / self._warm_up_iters)\n",
    "    return -0.5 * k * K.sum(1+ log_var - K.square(mu) - K.exp(log_var))"
   ]
  },
  {
   "cell_type": "code",
   "execution_count": 33,
   "metadata": {},
   "outputs": [],
   "source": [
    "warm_up_iters = 1000 \n",
    "optimizer = tf.keras.optimizers.Adam(0.0001)"
   ]
  },
  {
   "cell_type": "code",
   "execution_count": 35,
   "metadata": {},
   "outputs": [
    {
     "name": "stdout",
     "output_type": "stream",
     "text": [
      "Model: \"encoder_vae\"\n",
      "__________________________________________________________________________________________________\n",
      " Layer (type)                   Output Shape         Param #     Connected to                     \n",
      "==================================================================================================\n",
      " input_7 (InputLayer)           [(None, 16000, 1, 1  0           []                               \n",
      "                                )]                                                                \n",
      "                                                                                                  \n",
      " conv2d_8 (Conv2D)              (None, 4000, 1, 64)  4288        ['input_7[0][0]']                \n",
      "                                                                                                  \n",
      " conv2d_9 (Conv2D)              (None, 1000, 1, 128  540800      ['conv2d_8[0][0]']               \n",
      "                                )                                                                 \n",
      "                                                                                                  \n",
      " conv2d_10 (Conv2D)             (None, 250, 1, 256)  2162944     ['conv2d_9[0][0]']               \n",
      "                                                                                                  \n",
      " flatten_2 (Flatten)            (None, 64000)        0           ['conv2d_10[0][0]']              \n",
      "                                                                                                  \n",
      " dense_6 (Dense)                (None, 256)          16384256    ['flatten_2[0][0]']              \n",
      "                                                                                                  \n",
      " Z-Mean (Dense)                 (None, 128)          32896       ['dense_6[0][0]']                \n",
      "                                                                                                  \n",
      " Z-Log-Sigma (Dense)            (None, 128)          32896       ['dense_6[0][0]']                \n",
      "                                                                                                  \n",
      " sampling_2 (Sampling)          (None, 128)          0           ['Z-Mean[0][0]',                 \n",
      "                                                                  'Z-Log-Sigma[0][0]']            \n",
      "                                                                                                  \n",
      "==================================================================================================\n",
      "Total params: 19,158,080\n",
      "Trainable params: 19,158,080\n",
      "Non-trainable params: 0\n",
      "__________________________________________________________________________________________________\n"
     ]
    }
   ],
   "source": [
    "latent_dim = 128\n",
    "original_dim = (16000, 1, 1)\n",
    "encoder_inputs = keras.Input(original_dim)                                                   # bat, samps, ?, ch\n",
    "x = layers.Conv2D(64, (66,1), activation=\"relu\", padding=\"same\",strides=(4,1))(encoder_inputs) # [69, 48000, 1, 1] -> [69, 12000, 1, 64]\n",
    "x = layers.Conv2D(128,(66,1), activation=\"relu\", padding=\"same\",strides=(4,1))(x)\n",
    "x = layers.Conv2D(256,(66,1), activation=\"relu\", padding=\"same\",strides=(4,1))(x)\n",
    "latent = layers.Conv2D(512,(66,1), activation=\"relu\", padding=\"same\",strides=(3,1))(x)\n",
    "x = layers.Flatten()(x)\n",
    "x = layers.Dense(256, activation=\"relu\")(x)\n",
    "z_mean = layers.Dense(units=latent_dim, name='Z-Mean')(x) # Mean component\n",
    "z_log_sigma = layers.Dense(units=latent_dim, name='Z-Log-Sigma')(x) # Standard deviation component\n",
    "#######que pasa con z_regular nunca se usa?\n",
    "z_regular = tf.keras.layers.Concatenate(activity_regularizer= KLDivergenceRegularizer(optimizer.iterations, warm_up_iters,latent_dim))([z_mean,z_log_sigma])\n",
    "z = Sampling()([z_mean, z_log_sigma])\n",
    "#z = Sampling()(z_regular)\n",
    "vae_encoder = keras.Model(encoder_inputs, [z_mean, z_log_sigma, z], name=\"encoder_vae\")\n",
    "vae_encoder.summary()"
   ]
  },
  {
   "cell_type": "code",
   "execution_count": 37,
   "metadata": {},
   "outputs": [
    {
     "name": "stdout",
     "output_type": "stream",
     "text": [
      "Model: \"decoder_vae\"\n",
      "_________________________________________________________________\n",
      " Layer (type)                Output Shape              Param #   \n",
      "=================================================================\n",
      " input_9 (InputLayer)        [(None, 128)]             0         \n",
      "                                                                 \n",
      " dense_8 (Dense)             (None, 64000)             8256000   \n",
      "                                                                 \n",
      " reshape_5 (Reshape)         (None, 250, 1, 256)       0         \n",
      "                                                                 \n",
      " conv2d_transpose_15 (Conv2D  (None, 1000, 1, 128)     2162816   \n",
      " Transpose)                                                      \n",
      "                                                                 \n",
      " conv2d_transpose_16 (Conv2D  (None, 4000, 1, 64)      540736    \n",
      " Transpose)                                                      \n",
      "                                                                 \n",
      " conv2d_transpose_17 (Conv2D  (None, 16000, 1, 1)      4225      \n",
      " Transpose)                                                      \n",
      "                                                                 \n",
      "=================================================================\n",
      "Total params: 10,963,777\n",
      "Trainable params: 10,963,777\n",
      "Non-trainable params: 0\n",
      "_________________________________________________________________\n"
     ]
    }
   ],
   "source": [
    "latent_inputs = keras.Input(shape=(latent_dim,))\n",
    "x = layers.Dense(250 * 1 * 256, activation=\"relu\")(latent_inputs)\n",
    "x = layers.Reshape((250, 1, 256))(x)\n",
    "#x = layers.Conv2DTranspose(512,(4,1), activation=\"relu\",padding= \"same\",strides= (3,1))(x)\n",
    "x = layers.Conv2DTranspose(128,(66,1), activation=\"relu\",padding= \"same\",strides= (4,1))(x)\n",
    "x = layers.Conv2DTranspose(64,(66,1), activation=\"relu\",padding= \"same\",strides= (4,1))(x)\n",
    "#x = layers.Conv2DTranspose(64,(16,1), activation=\"relu\",padding= \"same\",strides=(4,1))(x)\n",
    "decoder_outputs = layers.Conv2DTranspose(1, (66, 1), activation=\"tanh\", padding=\"same\", strides = (4,1))(x)\n",
    "vae_decoder = keras.Model(latent_inputs, decoder_outputs, name=\"decoder_vae\")\n",
    "vae_decoder.summary()"
   ]
  },
  {
   "cell_type": "code",
   "execution_count": 38,
   "metadata": {},
   "outputs": [],
   "source": [
    "# Define outputs from a VAE model by specifying how the encoder-decoder models are linked\n",
    "outpt = vae_decoder(vae_encoder(encoder_inputs)[2]) # note, outputs available from encoder model are z_mean, z_log_sigma and z. We take z by specifying [2]\n",
    "# Instantiate a VAE model\n",
    "vae = Model(inputs=encoder_inputs, outputs=outpt, name='VAE-Model')\n",
    "vae.compile(optimizer= optimizer,loss = 'mean_squared_error')\n",
    "\n",
    "#vae.summary()"
   ]
  },
  {
   "cell_type": "code",
   "execution_count": 39,
   "metadata": {},
   "outputs": [
    {
     "name": "stdout",
     "output_type": "stream",
     "text": [
      "Epoch 1/800\n"
     ]
    },
    {
     "name": "stderr",
     "output_type": "stream",
     "text": [
      "2022-06-15 00:16:47.027326: I tensorflow/core/grappler/optimizers/custom_graph_optimizer_registry.cc:113] Plugin optimizer for device_type GPU is enabled.\n"
     ]
    },
    {
     "name": "stdout",
     "output_type": "stream",
     "text": [
      "160/160 [==============================] - 13s 75ms/step - loss: 0.0909\n",
      "Epoch 2/800\n",
      "160/160 [==============================] - 12s 75ms/step - loss: 0.0908\n",
      "Epoch 3/800\n",
      "160/160 [==============================] - 12s 75ms/step - loss: 0.0905\n",
      "Epoch 4/800\n",
      "160/160 [==============================] - 12s 76ms/step - loss: 0.0837\n",
      "Epoch 5/800\n",
      "160/160 [==============================] - 12s 76ms/step - loss: 0.0728\n",
      "Epoch 6/800\n",
      "160/160 [==============================] - 12s 76ms/step - loss: 0.0615\n",
      "Epoch 7/800\n",
      "160/160 [==============================] - 12s 76ms/step - loss: 0.0550\n",
      "Epoch 8/800\n",
      "160/160 [==============================] - 12s 77ms/step - loss: 0.0509\n",
      "Epoch 9/800\n",
      "160/160 [==============================] - 12s 76ms/step - loss: 0.0469\n",
      "Epoch 10/800\n",
      "160/160 [==============================] - 12s 76ms/step - loss: 0.0424\n",
      "Epoch 11/800\n",
      "160/160 [==============================] - 12s 77ms/step - loss: 0.0375\n",
      "Epoch 12/800\n",
      "160/160 [==============================] - 12s 76ms/step - loss: 0.0333\n",
      "Epoch 13/800\n",
      "160/160 [==============================] - 12s 75ms/step - loss: 0.0286\n",
      "Epoch 14/800\n",
      "160/160 [==============================] - 12s 76ms/step - loss: 0.0239\n",
      "Epoch 15/800\n",
      "160/160 [==============================] - 12s 76ms/step - loss: 0.0204\n",
      "Epoch 16/800\n",
      "160/160 [==============================] - 12s 76ms/step - loss: 0.0172\n",
      "Epoch 17/800\n",
      "160/160 [==============================] - 12s 76ms/step - loss: 0.0143\n",
      "Epoch 18/800\n",
      "160/160 [==============================] - 12s 76ms/step - loss: 0.0121\n",
      "Epoch 19/800\n",
      "160/160 [==============================] - 12s 76ms/step - loss: 0.0103\n",
      "Epoch 20/800\n",
      "160/160 [==============================] - 12s 76ms/step - loss: 0.0091\n",
      "Epoch 21/800\n",
      "160/160 [==============================] - 12s 76ms/step - loss: 0.0076\n",
      "Epoch 22/800\n",
      "160/160 [==============================] - 12s 76ms/step - loss: 0.0062\n",
      "Epoch 23/800\n",
      "160/160 [==============================] - 12s 76ms/step - loss: 0.0052\n",
      "Epoch 24/800\n",
      "160/160 [==============================] - 12s 76ms/step - loss: 0.0045\n",
      "Epoch 25/800\n",
      "160/160 [==============================] - 12s 76ms/step - loss: 0.0041\n",
      "Epoch 26/800\n",
      "160/160 [==============================] - 12s 76ms/step - loss: 0.0038\n",
      "Epoch 27/800\n",
      "160/160 [==============================] - 12s 76ms/step - loss: 0.0036\n",
      "Epoch 28/800\n",
      "160/160 [==============================] - 12s 76ms/step - loss: 0.0035\n",
      "Epoch 29/800\n",
      "160/160 [==============================] - 12s 76ms/step - loss: 0.0033\n",
      "Epoch 30/800\n",
      "160/160 [==============================] - 12s 76ms/step - loss: 0.0032\n",
      "Epoch 31/800\n",
      "160/160 [==============================] - 12s 76ms/step - loss: 0.0034\n",
      "Epoch 32/800\n",
      "160/160 [==============================] - 12s 76ms/step - loss: 0.0034\n",
      "Epoch 33/800\n",
      "160/160 [==============================] - 12s 76ms/step - loss: 0.0031\n",
      "Epoch 34/800\n",
      "160/160 [==============================] - 12s 76ms/step - loss: 0.0027\n",
      "Epoch 35/800\n",
      "160/160 [==============================] - 12s 76ms/step - loss: 0.0024\n",
      "Epoch 36/800\n",
      "160/160 [==============================] - 12s 76ms/step - loss: 0.0025\n",
      "Epoch 37/800\n",
      "160/160 [==============================] - 12s 76ms/step - loss: 0.0025\n",
      "Epoch 38/800\n",
      "160/160 [==============================] - 12s 76ms/step - loss: 0.0024\n",
      "Epoch 39/800\n",
      "160/160 [==============================] - 12s 76ms/step - loss: 0.0022\n",
      "Epoch 40/800\n",
      "160/160 [==============================] - 12s 76ms/step - loss: 0.0021\n",
      "Epoch 41/800\n",
      "160/160 [==============================] - 12s 76ms/step - loss: 0.0020\n",
      "Epoch 42/800\n",
      "160/160 [==============================] - 12s 76ms/step - loss: 0.0020\n",
      "Epoch 43/800\n",
      "108/160 [===================>..........] - ETA: 3s - loss: 0.0020"
     ]
    }
   ],
   "source": [
    "tr_logs = vae.fit(Xw[:800],Xw[:800], shuffle = True, batch_size= 5, epochs= 800)\n"
   ]
  }
 ],
 "metadata": {
  "interpreter": {
   "hash": "3abf7a72130f284e1736e00ed38399f9b0bfafbe79ca07eb1f1dc6e0da6bca3b"
  },
  "kernelspec": {
   "display_name": "Python 3.9.1",
   "language": "python",
   "name": "python3"
  },
  "language_info": {
   "codemirror_mode": {
    "name": "ipython",
    "version": 3
   },
   "file_extension": ".py",
   "mimetype": "text/x-python",
   "name": "python",
   "nbconvert_exporter": "python",
   "pygments_lexer": "ipython3",
   "version": "3.9.1"
  },
  "orig_nbformat": 4
 },
 "nbformat": 4,
 "nbformat_minor": 2
}
