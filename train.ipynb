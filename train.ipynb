{
 "cells": [
  {
   "cell_type": "code",
   "execution_count": 1,
   "metadata": {},
   "outputs": [],
   "source": [
    "import tensorflow as tf\n",
    "import keras\n",
    "from keras.layers import Conv2D, Conv2DTranspose, Input, Flatten, Dense, Lambda, Reshape\n",
    "from keras import layers\n",
    "#from keras.layers import BatchNormalization\n",
    "from keras.models import Model\n",
    "from keras import backend as K\n",
    "import numpy as np\n",
    "import matplotlib.pyplot as plt\n",
    "from sklearn.decomposition import  PCA\n",
    "from mpl_toolkits.mplot3d import Axes3D\n",
    "import IPython\n",
    "import librosa.display\n",
    "import librosa\n",
    "import pickle"
   ]
  },
  {
   "cell_type": "code",
   "execution_count": 2,
   "metadata": {},
   "outputs": [
    {
     "name": "stdout",
     "output_type": "stream",
     "text": [
      "TensorFlow has access to the following devices:\n",
      "[PhysicalDevice(name='/physical_device:CPU:0', device_type='CPU'), PhysicalDevice(name='/physical_device:GPU:0', device_type='GPU')]\n",
      "TensorFlow version: 2.9.0\n"
     ]
    }
   ],
   "source": [
    "print(f\"TensorFlow has access to the following devices:\\n{tf.config.list_physical_devices()}\")\n",
    "\n",
    "# See TensorFlow version\n",
    "print(f\"TensorFlow version: {tf.__version__}\")"
   ]
  },
  {
   "cell_type": "code",
   "execution_count": 3,
   "metadata": {},
   "outputs": [],
   "source": [
    "optimizer = tf.keras.optimizers.Adam(0.0001)\n",
    "latent_dim = 128\n",
    "sr = 48000\n",
    "fx = [\"Clean\", \"TubeScreamer\", \"BluesDriver\", \"RAT\", \"Chorus\", \"Phaser\", \"Flanger\", \"Tape Echo\",\"Sweep Echo\", \"Digital Delay\", \"Hall Reverb\", \"PlateReverb\", \"Spring Reverb\"]\n"
   ]
  },
  {
   "cell_type": "code",
   "execution_count": 16,
   "metadata": {},
   "outputs": [
    {
     "name": "stdout",
     "output_type": "stream",
     "text": [
      "(5000, 64000)\n"
     ]
    }
   ],
   "source": [
    "with open('/Users/mezaga93/Desktop/sintesis_aciml.pkl', 'rb') as f:\n",
    "  waveforms = pickle.load(f)\n",
    "print(waveforms.shape)"
   ]
  },
  {
   "cell_type": "code",
   "execution_count": 17,
   "metadata": {},
   "outputs": [
    {
     "name": "stdout",
     "output_type": "stream",
     "text": [
      "(500, 16000)\n"
     ]
    }
   ],
   "source": [
    "waveforms = waveforms[0:5000:10,:16000]\n",
    "#waveforms = [i for i in range(0,len(waveforms),10)]\n",
    "print(waveforms.shape)"
   ]
  },
  {
   "cell_type": "code",
   "execution_count": 18,
   "metadata": {},
   "outputs": [
    {
     "name": "stdout",
     "output_type": "stream",
     "text": [
      "(500, 16000)\n"
     ]
    }
   ],
   "source": [
    "###normalizar y cambio de dimensionalidad\n",
    "mu_wave = np.mean(waveforms, axis= 1)[...,np.newaxis]\n",
    "max_wave = np.max(waveforms, axis=1)[...,np.newaxis]\n",
    "\n",
    "Xw = (waveforms- mu_wave)#/max_wave\n",
    "## para evitar la division entre ceros\n",
    "Xw = np.divide(Xw, max_wave, out=np.zeros(Xw.shape, dtype=float), where=max_wave!=0)\n",
    "print(Xw.shape)"
   ]
  },
  {
   "cell_type": "code",
   "execution_count": 19,
   "metadata": {},
   "outputs": [
    {
     "name": "stdout",
     "output_type": "stream",
     "text": [
      "(500, 16000, 1, 1)\n"
     ]
    }
   ],
   "source": [
    "#####reshape de los datos\n",
    "Xw = Xw[...,np.newaxis][...,np.newaxis]\n",
    "print(Xw.shape)"
   ]
  },
  {
   "cell_type": "code",
   "execution_count": 20,
   "metadata": {},
   "outputs": [],
   "source": [
    "class Sampling(layers.Layer):\n",
    "    \"\"\"Uses (z_mean, z_log_var) to sample z, the vector encoding a digit.\"\"\"\n",
    "    #@tf.function\n",
    "    def call(self, inputs):\n",
    "        z_mean, z_log_var = inputs\n",
    "        #z_mean = np.array([input[0]])\n",
    "        #z_log_var = np.array([input[1]])\n",
    "        batch = tf.shape(z_mean)[0]\n",
    "        dim = tf.shape(z_mean)[1]\n",
    "        epsilon = tf.keras.backend.random_normal(shape=(batch, dim))\n",
    "        return z_mean + tf.exp(0.5 * z_log_var) * epsilon"
   ]
  },
  {
   "cell_type": "code",
   "execution_count": 21,
   "metadata": {},
   "outputs": [],
   "source": [
    "class KLDivergenceRegularizer(tf.keras.regularizers.Regularizer):\n",
    "  def __init__(self, iters: tf.Variable, warm_up_iters: int, latent_size: int):\n",
    "    self._iters = np.array([iters])\n",
    "    self._warm_up_iters = np.array([warm_up_iters])\n",
    "    self.latent_size = latent_size\n",
    "  \n",
    "  @tf.function\n",
    "  def __call__(self, activation):\n",
    "    # note: activity regularizers automatically divide by batch size\n",
    "    mu= activation[:self.latent_size]\n",
    "    log_var = activation[self.latent_size:]\n",
    "    k = np.min(self._iters / self._warm_up_iters)\n",
    "    return -0.5 * k * K.sum(1+ log_var - K.square(mu) - K.exp(log_var))"
   ]
  },
  {
   "cell_type": "code",
   "execution_count": 30,
   "metadata": {},
   "outputs": [],
   "source": [
    "warm_up_iters = 1000 \n",
    "optimizer = tf.keras.optimizers.Adam(0.00001)"
   ]
  },
  {
   "cell_type": "code",
   "execution_count": 23,
   "metadata": {},
   "outputs": [
    {
     "name": "stdout",
     "output_type": "stream",
     "text": [
      "Metal device set to: Apple M1 Pro\n",
      "\n",
      "systemMemory: 16.00 GB\n",
      "maxCacheSize: 5.33 GB\n",
      "\n"
     ]
    },
    {
     "name": "stderr",
     "output_type": "stream",
     "text": [
      "2022-06-15 18:59:01.017075: I tensorflow/core/common_runtime/pluggable_device/pluggable_device_factory.cc:305] Could not identify NUMA node of platform GPU ID 0, defaulting to 0. Your kernel may not have been built with NUMA support.\n",
      "2022-06-15 18:59:01.017955: I tensorflow/core/common_runtime/pluggable_device/pluggable_device_factory.cc:271] Created TensorFlow device (/job:localhost/replica:0/task:0/device:GPU:0 with 0 MB memory) -> physical PluggableDevice (device: 0, name: METAL, pci bus id: <undefined>)\n"
     ]
    },
    {
     "name": "stdout",
     "output_type": "stream",
     "text": [
      "Model: \"encoder_vae\"\n",
      "__________________________________________________________________________________________________\n",
      " Layer (type)                   Output Shape         Param #     Connected to                     \n",
      "==================================================================================================\n",
      " input_1 (InputLayer)           [(None, 16000, 1, 1  0           []                               \n",
      "                                )]                                                                \n",
      "                                                                                                  \n",
      " conv2d (Conv2D)                (None, 4000, 1, 64)  4288        ['input_1[0][0]']                \n",
      "                                                                                                  \n",
      " conv2d_1 (Conv2D)              (None, 1000, 1, 128  540800      ['conv2d[0][0]']                 \n",
      "                                )                                                                 \n",
      "                                                                                                  \n",
      " conv2d_2 (Conv2D)              (None, 250, 1, 256)  2162944     ['conv2d_1[0][0]']               \n",
      "                                                                                                  \n",
      " flatten (Flatten)              (None, 64000)        0           ['conv2d_2[0][0]']               \n",
      "                                                                                                  \n",
      " dense (Dense)                  (None, 256)          16384256    ['flatten[0][0]']                \n",
      "                                                                                                  \n",
      " Z-Mean (Dense)                 (None, 128)          32896       ['dense[0][0]']                  \n",
      "                                                                                                  \n",
      " Z-Log-Sigma (Dense)            (None, 128)          32896       ['dense[0][0]']                  \n",
      "                                                                                                  \n",
      " sampling (Sampling)            (None, 128)          0           ['Z-Mean[0][0]',                 \n",
      "                                                                  'Z-Log-Sigma[0][0]']            \n",
      "                                                                                                  \n",
      "==================================================================================================\n",
      "Total params: 19,158,080\n",
      "Trainable params: 19,158,080\n",
      "Non-trainable params: 0\n",
      "__________________________________________________________________________________________________\n"
     ]
    }
   ],
   "source": [
    "latent_dim = 128\n",
    "original_dim = (16000, 1, 1)\n",
    "encoder_inputs = keras.Input(original_dim)                                                   # bat, samps, ?, ch\n",
    "x = layers.Conv2D(64, (66,1), activation=\"relu\", padding=\"same\",strides=(4,1))(encoder_inputs) # [69, 48000, 1, 1] -> [69, 12000, 1, 64]\n",
    "x = layers.Conv2D(128,(66,1), activation=\"relu\", padding=\"same\",strides=(4,1))(x)\n",
    "x = layers.Conv2D(256,(66,1), activation=\"relu\", padding=\"same\",strides=(4,1))(x)\n",
    "latent = layers.Conv2D(512,(66,1), activation=\"relu\", padding=\"same\",strides=(3,1))(x)\n",
    "x = layers.Flatten()(x)\n",
    "x = layers.Dense(256, activation=\"relu\")(x)\n",
    "z_mean = layers.Dense(units=latent_dim, name='Z-Mean')(x) # Mean component\n",
    "z_log_sigma = layers.Dense(units=latent_dim, name='Z-Log-Sigma')(x) # Standard deviation component\n",
    "#######que pasa con z_regular nunca se usa?\n",
    "z_regular = tf.keras.layers.Concatenate(activity_regularizer= KLDivergenceRegularizer(optimizer.iterations, warm_up_iters,latent_dim))([z_mean,z_log_sigma])\n",
    "z = Sampling()([z_mean, z_log_sigma])\n",
    "#z = Sampling()(z_regular)\n",
    "vae_encoder = keras.Model(encoder_inputs, [z_mean, z_log_sigma, z], name=\"encoder_vae\")\n",
    "vae_encoder.summary()"
   ]
  },
  {
   "cell_type": "code",
   "execution_count": 24,
   "metadata": {},
   "outputs": [
    {
     "name": "stdout",
     "output_type": "stream",
     "text": [
      "Model: \"decoder_vae\"\n",
      "_________________________________________________________________\n",
      " Layer (type)                Output Shape              Param #   \n",
      "=================================================================\n",
      " input_2 (InputLayer)        [(None, 128)]             0         \n",
      "                                                                 \n",
      " dense_1 (Dense)             (None, 64000)             8256000   \n",
      "                                                                 \n",
      " reshape (Reshape)           (None, 250, 1, 256)       0         \n",
      "                                                                 \n",
      " conv2d_transpose (Conv2DTra  (None, 1000, 1, 128)     2162816   \n",
      " nspose)                                                         \n",
      "                                                                 \n",
      " conv2d_transpose_1 (Conv2DT  (None, 4000, 1, 64)      540736    \n",
      " ranspose)                                                       \n",
      "                                                                 \n",
      " conv2d_transpose_2 (Conv2DT  (None, 16000, 1, 1)      4225      \n",
      " ranspose)                                                       \n",
      "                                                                 \n",
      "=================================================================\n",
      "Total params: 10,963,777\n",
      "Trainable params: 10,963,777\n",
      "Non-trainable params: 0\n",
      "_________________________________________________________________\n"
     ]
    }
   ],
   "source": [
    "latent_inputs = keras.Input(shape=(latent_dim,))\n",
    "x = layers.Dense(250 * 1 * 256, activation=\"relu\")(latent_inputs)\n",
    "x = layers.Reshape((250, 1, 256))(x)\n",
    "#x = layers.Conv2DTranspose(512,(4,1), activation=\"relu\",padding= \"same\",strides= (3,1))(x)\n",
    "x = layers.Conv2DTranspose(128,(66,1), activation=\"relu\",padding= \"same\",strides= (4,1))(x)\n",
    "x = layers.Conv2DTranspose(64,(66,1), activation=\"relu\",padding= \"same\",strides= (4,1))(x)\n",
    "#x = layers.Conv2DTranspose(64,(16,1), activation=\"relu\",padding= \"same\",strides=(4,1))(x)\n",
    "decoder_outputs = layers.Conv2DTranspose(1, (66, 1), activation=\"tanh\", padding=\"same\", strides = (4,1))(x)\n",
    "vae_decoder = keras.Model(latent_inputs, decoder_outputs, name=\"decoder_vae\")\n",
    "vae_decoder.summary()"
   ]
  },
  {
   "cell_type": "code",
   "execution_count": 25,
   "metadata": {},
   "outputs": [],
   "source": [
    "# Define outputs from a VAE model by specifying how the encoder-decoder models are linked\n",
    "outpt = vae_decoder(vae_encoder(encoder_inputs)[2]) # note, outputs available from encoder model are z_mean, z_log_sigma and z. We take z by specifying [2]\n",
    "# Instantiate a VAE model\n",
    "vae = Model(inputs=encoder_inputs, outputs=outpt, name='VAE-Model')\n",
    "vae.compile(optimizer= optimizer,loss = 'mean_squared_error')\n",
    "\n",
    "#vae.summary()"
   ]
  },
  {
   "cell_type": "code",
   "execution_count": 31,
   "metadata": {},
   "outputs": [
    {
     "name": "stdout",
     "output_type": "stream",
     "text": [
      "Epoch 1/80\n",
      "100/100 [==============================] - 8s 75ms/step - loss: 0.0860\n",
      "Epoch 2/80\n",
      "100/100 [==============================] - 8s 75ms/step - loss: 0.0866\n",
      "Epoch 3/80\n",
      "100/100 [==============================] - 8s 76ms/step - loss: 0.0877\n",
      "Epoch 4/80\n",
      "100/100 [==============================] - 8s 75ms/step - loss: 0.0858\n",
      "Epoch 5/80\n",
      "100/100 [==============================] - 8s 75ms/step - loss: 0.0831\n",
      "Epoch 6/80\n",
      "100/100 [==============================] - 8s 76ms/step - loss: 0.0825\n",
      "Epoch 7/80\n",
      "100/100 [==============================] - 8s 75ms/step - loss: 0.0815\n",
      "Epoch 8/80\n",
      "100/100 [==============================] - 8s 76ms/step - loss: 0.0802\n",
      "Epoch 9/80\n",
      "100/100 [==============================] - 8s 76ms/step - loss: 0.0789\n",
      "Epoch 10/80\n",
      "100/100 [==============================] - 8s 76ms/step - loss: 0.0778\n",
      "Epoch 11/80\n",
      "100/100 [==============================] - 8s 75ms/step - loss: 0.0770\n",
      "Epoch 12/80\n",
      "100/100 [==============================] - 8s 75ms/step - loss: 0.0769\n",
      "Epoch 13/80\n",
      "100/100 [==============================] - 8s 76ms/step - loss: 0.0763\n",
      "Epoch 14/80\n",
      "100/100 [==============================] - 8s 76ms/step - loss: 0.0748\n",
      "Epoch 15/80\n",
      "100/100 [==============================] - 8s 76ms/step - loss: 0.0736\n",
      "Epoch 16/80\n",
      "100/100 [==============================] - 8s 76ms/step - loss: 0.0728\n",
      "Epoch 17/80\n",
      "100/100 [==============================] - 8s 76ms/step - loss: 0.0719\n",
      "Epoch 18/80\n",
      "100/100 [==============================] - 8s 75ms/step - loss: 0.0709\n",
      "Epoch 19/80\n",
      "100/100 [==============================] - 8s 76ms/step - loss: 0.0704\n",
      "Epoch 20/80\n",
      "100/100 [==============================] - 8s 75ms/step - loss: 0.0701\n",
      "Epoch 21/80\n",
      "100/100 [==============================] - 8s 75ms/step - loss: 0.0683\n",
      "Epoch 22/80\n",
      "100/100 [==============================] - 8s 75ms/step - loss: 0.0669\n",
      "Epoch 23/80\n",
      "100/100 [==============================] - 8s 75ms/step - loss: 0.0657\n",
      "Epoch 24/80\n",
      "100/100 [==============================] - 8s 75ms/step - loss: 0.0651\n",
      "Epoch 25/80\n",
      "100/100 [==============================] - 8s 75ms/step - loss: 0.0642\n",
      "Epoch 26/80\n",
      "100/100 [==============================] - 8s 75ms/step - loss: 0.0632\n",
      "Epoch 27/80\n",
      "100/100 [==============================] - 8s 75ms/step - loss: 0.0629\n",
      "Epoch 28/80\n",
      "100/100 [==============================] - 8s 75ms/step - loss: 0.0622\n",
      "Epoch 29/80\n",
      "100/100 [==============================] - 8s 75ms/step - loss: 0.0653\n",
      "Epoch 30/80\n",
      "100/100 [==============================] - 8s 75ms/step - loss: 0.0605\n",
      "Epoch 31/80\n",
      "100/100 [==============================] - 8s 75ms/step - loss: 0.0600\n",
      "Epoch 32/80\n",
      "100/100 [==============================] - 8s 75ms/step - loss: 0.0589\n",
      "Epoch 33/80\n",
      "100/100 [==============================] - 8s 75ms/step - loss: 0.0579\n",
      "Epoch 34/80\n",
      "100/100 [==============================] - 8s 75ms/step - loss: 0.0567\n",
      "Epoch 35/80\n",
      "100/100 [==============================] - 8s 75ms/step - loss: 0.0555\n",
      "Epoch 36/80\n",
      "100/100 [==============================] - 8s 75ms/step - loss: 0.0555\n",
      "Epoch 37/80\n",
      "100/100 [==============================] - 8s 75ms/step - loss: 0.0545\n",
      "Epoch 38/80\n",
      "100/100 [==============================] - 8s 75ms/step - loss: 0.0536\n",
      "Epoch 39/80\n",
      "100/100 [==============================] - 8s 75ms/step - loss: 0.0526\n",
      "Epoch 40/80\n",
      "100/100 [==============================] - 8s 75ms/step - loss: 0.0519\n",
      "Epoch 41/80\n",
      "100/100 [==============================] - 8s 75ms/step - loss: 0.0513\n",
      "Epoch 42/80\n",
      "100/100 [==============================] - 8s 75ms/step - loss: 0.0511\n",
      "Epoch 43/80\n",
      "100/100 [==============================] - 8s 75ms/step - loss: 0.0513\n",
      "Epoch 44/80\n",
      "100/100 [==============================] - 7s 75ms/step - loss: 0.0532\n",
      "Epoch 45/80\n",
      "100/100 [==============================] - 8s 75ms/step - loss: 0.0505\n",
      "Epoch 46/80\n",
      "100/100 [==============================] - 8s 75ms/step - loss: 0.0488\n",
      "Epoch 47/80\n",
      "100/100 [==============================] - 8s 75ms/step - loss: 0.0481\n",
      "Epoch 48/80\n",
      "100/100 [==============================] - 8s 75ms/step - loss: 0.0474\n",
      "Epoch 49/80\n",
      "100/100 [==============================] - 8s 75ms/step - loss: 0.0473\n",
      "Epoch 50/80\n",
      "100/100 [==============================] - 8s 75ms/step - loss: 0.0498\n",
      "Epoch 51/80\n",
      "100/100 [==============================] - 8s 75ms/step - loss: 0.0469\n",
      "Epoch 52/80\n",
      "100/100 [==============================] - 8s 75ms/step - loss: 0.0459\n",
      "Epoch 53/80\n",
      "100/100 [==============================] - 8s 75ms/step - loss: 0.0450\n",
      "Epoch 54/80\n",
      "100/100 [==============================] - 8s 76ms/step - loss: 0.0449\n",
      "Epoch 55/80\n",
      "100/100 [==============================] - 8s 77ms/step - loss: 0.0439\n",
      "Epoch 56/80\n",
      "100/100 [==============================] - 8s 77ms/step - loss: 0.0436\n",
      "Epoch 57/80\n",
      "100/100 [==============================] - 8s 76ms/step - loss: 0.0430\n",
      "Epoch 58/80\n",
      "100/100 [==============================] - 8s 76ms/step - loss: 0.0441\n",
      "Epoch 59/80\n",
      "100/100 [==============================] - 8s 76ms/step - loss: 0.0426\n",
      "Epoch 60/80\n",
      "100/100 [==============================] - 8s 76ms/step - loss: 0.0420\n",
      "Epoch 61/80\n",
      "100/100 [==============================] - 8s 76ms/step - loss: 0.0404\n",
      "Epoch 62/80\n",
      "100/100 [==============================] - 8s 76ms/step - loss: 0.0393\n",
      "Epoch 63/80\n",
      "100/100 [==============================] - 8s 76ms/step - loss: 0.0386\n",
      "Epoch 64/80\n",
      "100/100 [==============================] - 8s 77ms/step - loss: 0.0384\n",
      "Epoch 65/80\n",
      "100/100 [==============================] - 8s 76ms/step - loss: 0.0378\n",
      "Epoch 66/80\n",
      "100/100 [==============================] - 8s 76ms/step - loss: 0.0377\n",
      "Epoch 67/80\n",
      "100/100 [==============================] - 8s 76ms/step - loss: 0.0375\n",
      "Epoch 68/80\n",
      "100/100 [==============================] - 8s 77ms/step - loss: 0.0366\n",
      "Epoch 69/80\n",
      "100/100 [==============================] - 8s 76ms/step - loss: 0.0359\n",
      "Epoch 70/80\n",
      "100/100 [==============================] - 8s 76ms/step - loss: 0.0358\n",
      "Epoch 71/80\n",
      "100/100 [==============================] - 8s 79ms/step - loss: 0.0362\n",
      "Epoch 72/80\n",
      "100/100 [==============================] - 8s 76ms/step - loss: 0.0369\n",
      "Epoch 73/80\n",
      "100/100 [==============================] - 8s 76ms/step - loss: 0.0375\n",
      "Epoch 74/80\n",
      "100/100 [==============================] - 8s 77ms/step - loss: 0.0387\n",
      "Epoch 75/80\n",
      "100/100 [==============================] - 8s 77ms/step - loss: 0.0376\n",
      "Epoch 76/80\n",
      "100/100 [==============================] - 8s 76ms/step - loss: 0.0351\n",
      "Epoch 77/80\n",
      "100/100 [==============================] - 8s 78ms/step - loss: 0.0333\n",
      "Epoch 78/80\n",
      "100/100 [==============================] - 8s 76ms/step - loss: 0.0342\n",
      "Epoch 79/80\n",
      "100/100 [==============================] - 8s 76ms/step - loss: 0.0350\n",
      "Epoch 80/80\n",
      "100/100 [==============================] - 8s 76ms/step - loss: 0.0348\n"
     ]
    }
   ],
   "source": [
    "tr_logs = vae.fit(Xw[:800],Xw[:800], shuffle = True, batch_size= 5, epochs= 80)\n"
   ]
  },
  {
   "cell_type": "code",
   "execution_count": 32,
   "metadata": {},
   "outputs": [
    {
     "data": {
      "image/png": "[encoded data removed]",
      "text/plain": [
       "<Figure size 432x288 with 1 Axes>"
      ]
     },
     "metadata": {
      "needs_background": "light"
     },
     "output_type": "display_data"
    }
   ],
   "source": [
    "#plt.plot(loss)\n",
    "plt.plot(tr_logs.history['loss'])\n",
    "plt.title('model loss')\n",
    "plt.ylabel('loss')\n",
    "plt.xlabel('epoch')\n",
    "plt.legend(['train'], loc='upper right')\n",
    "plt.show()"
   ]
  },
  {
   "cell_type": "code",
   "execution_count": 33,
   "metadata": {},
   "outputs": [
    {
     "name": "stdout",
     "output_type": "stream",
     "text": [
      " 1/16 [>.............................] - ETA: 3s"
     ]
    },
    {
     "name": "stderr",
     "output_type": "stream",
     "text": [
      "2022-06-15 19:22:07.974287: I tensorflow/core/grappler/optimizers/custom_graph_optimizer_registry.cc:113] Plugin optimizer for device_type GPU is enabled.\n"
     ]
    },
    {
     "name": "stdout",
     "output_type": "stream",
     "text": [
      "16/16 [==============================] - 4s 223ms/step\n"
     ]
    }
   ],
   "source": [
    "y_hat = vae.predict(Xw)"
   ]
  },
  {
   "cell_type": "code",
   "execution_count": 34,
   "metadata": {},
   "outputs": [
    {
     "data": {
      "text/plain": [
       "(500, 16000, 1, 1)"
      ]
     },
     "execution_count": 34,
     "metadata": {},
     "output_type": "execute_result"
    }
   ],
   "source": [
    "y_hat.shape"
   ]
  },
  {
   "cell_type": "code",
   "execution_count": 36,
   "metadata": {},
   "outputs": [
    {
     "name": "stdout",
     "output_type": "stream",
     "text": [
      "[0, 100, 200, 300, 400]\n"
     ]
    },
    {
     "name": "stderr",
     "output_type": "stream",
     "text": [
      "/var/folders/qs/3zzqvkk15cx77yqry0yt8x8h0000gn/T/ipykernel_2061/1593705874.py:7: FutureWarning: Pass sr=16000 as keyword args. From version 0.10 passing these as positional arguments will result in an error\n",
      "  librosa.display.waveshow(y_hat[x].flatten(),16000,color='r')\n"
     ]
    },
    {
     "data": {
      "image/png": "[encoded data removed]",
      "text/plain": [
       "<Figure size 1080x432 with 5 Axes>"
      ]
     },
     "metadata": {
      "needs_background": "light"
     },
     "output_type": "display_data"
    }
   ],
   "source": [
    "####visualización de los audios antes de normalizar\n",
    "plt.figure(figsize=(15, 6))\n",
    "sonidos = [i for i in range(0,500,100)]\n",
    "print(sonidos)\n",
    "for i, x in enumerate(sonidos):\n",
    "    plt.subplot(3, 5, i+ 1).set_title(fx[i])\n",
    "    librosa.display.waveshow(y_hat[x].flatten(),16000,color='r')\n",
    "plt.tight_layout()\n",
    "plt.title(\"Waveforms\")\n",
    "plt.show()"
   ]
  },
  {
   "cell_type": "code",
   "execution_count": 38,
   "metadata": {},
   "outputs": [
    {
     "name": "stderr",
     "output_type": "stream",
     "text": [
      "/var/folders/qs/3zzqvkk15cx77yqry0yt8x8h0000gn/T/ipykernel_2061/4238528815.py:5: FutureWarning: Pass sr=16000 as keyword args. From version 0.10 passing these as positional arguments will result in an error\n",
      "  librosa.display.waveshow(Xw[x].flatten(),16000, color='b')\n"
     ]
    },
    {
     "data": {
      "image/png": "[encoded data removed]",
      "text/plain": [
       "<Figure size 1080x432 with 5 Axes>"
      ]
     },
     "metadata": {
      "needs_background": "light"
     },
     "output_type": "display_data"
    }
   ],
   "source": [
    "plt.figure(figsize=(15, 6))\n",
    "sonidos = [i for i in range(0,500,100)]\n",
    "for i, x in enumerate(sonidos):\n",
    "    plt.subplot(3, 5, i+ 1).set_title(fx[i])\n",
    "    librosa.display.waveshow(Xw[x].flatten(),16000, color='b')\n",
    "plt.tight_layout()\n",
    "plt.title(\"Waveforms\")\n",
    "plt.show()"
   ]
  }
 ],
 "metadata": {
  "interpreter": {
   "hash": "3abf7a72130f284e1736e00ed38399f9b0bfafbe79ca07eb1f1dc6e0da6bca3b"
  },
  "kernelspec": {
   "display_name": "Python 3.9.1",
   "language": "python",
   "name": "python3"
  },
  "language_info": {
   "codemirror_mode": {
    "name": "ipython",
    "version": 3
   },
   "file_extension": ".py",
   "mimetype": "text/x-python",
   "name": "python",
   "nbconvert_exporter": "python",
   "pygments_lexer": "ipython3",
   "version": "3.9.1"
  },
  "orig_nbformat": 4
 },
 "nbformat": 4,
 "nbformat_minor": 2
}
