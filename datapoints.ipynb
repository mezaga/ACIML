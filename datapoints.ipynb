{
 "cells": [
  {
   "cell_type": "code",
   "execution_count": null,
   "metadata": {},
   "outputs": [],
   "source": [
    "import librosa\n",
    "import numpy as np\n",
    "from natsort import natsorted\n",
    "import os\n",
    "from os import walk\n",
    "import numpy as np\n",
    "import pickle"
   ]
  },
  {
   "cell_type": "code",
   "execution_count": null,
   "metadata": {},
   "outputs": [],
   "source": [
    "######load your data#######\n",
    "# load your data\n",
    "paths = [\n",
    "         \"/Users/mezaga93/tensorflow-test/env/guitar_VAE/SampledGuitar/Stratocaster/1_Clean\",\n",
    "         \"/Users/mezaga93/tensorflow-test/env/guitar_VAE/SampledGuitar/Stratocaster/2_TubeScreamer\",\n",
    "         \"/Users/mezaga93/tensorflow-test/env/guitar_VAE/SampledGuitar/Stratocaster/3_BluesDriver\",\n",
    "         \"/Users/mezaga93/tensorflow-test/env/guitar_VAE/SampledGuitar/Stratocaster/4_RAT\",\n",
    "         \"/Users/mezaga93/tensorflow-test/env/guitar_VAE/SampledGuitar/Stratocaster/5_Chorus\",\n",
    "         \"/Users/mezaga93/tensorflow-test/env/guitar_VAE/SampledGuitar/Stratocaster/6_Phaser\",\n",
    "         \"/Users/mezaga93/tensorflow-test/env/guitar_VAE/SampledGuitar/Stratocaster/7_Flanger\",\n",
    "         \"/Users/mezaga93/tensorflow-test/env/guitar_VAE/SampledGuitar/Stratocaster/8_TapeEcho\",\n",
    "         \"/Users/mezaga93/tensorflow-test/env/guitar_VAE/SampledGuitar/Stratocaster/9_Sweep Echo\",\n",
    "         \"/Users/mezaga93/tensorflow-test/env/guitar_VAE/SampledGuitar/Stratocaster/10_Digital Delay\",\n",
    "         \"/Users/mezaga93/tensorflow-test/env/guitar_VAE/SampledGuitar/Stratocaster/11_Hall Reverb\",\n",
    "         \"/Users/mezaga93/tensorflow-test/env/guitar_VAE/SampledGuitar/Stratocaster/12_Plate Reverb\",\n",
    "         \"/Users/mezaga93/tensorflow-test/env/guitar_VAE/SampledGuitar/Stratocaster/13_Spring Reverb\",\n",
    "         \n",
    "         ]\n",
    "#print(paths)\n",
    "audios = []\n",
    "labels = []\n",
    "labelsname = []\n",
    "for i in paths:\n",
    "    for (dirpath, dirnames, filenames) in walk(i):\n",
    "      #print(dirpath)\n",
    "      for directory in dirpath:\n",
    "        for filename in filenames:\n",
    "          if filename.endswith(\"wav\"):\n",
    "            #print(filename)\n",
    "            audios.append(os.path.join(dirpath, filename))\n",
    "        break\n",
    "print(len(audios))\n",
    "###esto arregla el orden de importacion de los audios\n",
    "audios = natsorted(audios)"
   ]
  },
  {
   "cell_type": "code",
   "execution_count": null,
   "metadata": {},
   "outputs": [],
   "source": [
    "waveforms = []\n",
    "sr = 48000\n",
    "sr16k = 16000\n",
    "secs = 1\n",
    "\n",
    "for track in audios:\n",
    "  if track.endswith(\"wav\"):\n",
    "    y,fs = librosa.load(track, sr)\n",
    "    waveforms.append(librosa.resample(y[:48000* secs], sr, sr16k))\n",
    "waveforms = np.array(waveforms)\n",
    "print(waveforms.shape)"
   ]
  },
  {
   "cell_type": "code",
   "execution_count": null,
   "metadata": {},
   "outputs": [],
   "source": []
  }
 ],
 "metadata": {
  "language_info": {
   "name": "python"
  },
  "orig_nbformat": 4
 },
 "nbformat": 4,
 "nbformat_minor": 2
}
