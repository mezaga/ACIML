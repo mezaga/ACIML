{
 "cells": [
  {
   "cell_type": "code",
   "execution_count": null,
   "metadata": {},
   "outputs": [],
   "source": [
    "import tensorflow as tf\n",
    "import keras\n",
    "from keras.layers import Conv2D, Conv2DTranspose, Input, Flatten, Dense, Lambda, Reshape\n",
    "from keras import layers\n",
    "#from keras.layers import BatchNormalization\n",
    "from keras.models import Model\n",
    "from keras import backend as K\n",
    "import numpy as np\n",
    "import matplotlib.pyplot as plt\n",
    "from sklearn.decomposition import  PCA\n",
    "from mpl_toolkits.mplot3d import Axes3D\n",
    "import IPython\n",
    "import librosa.display\n",
    "import librosa\n",
    "import pickle"
   ]
  },
  {
   "cell_type": "code",
   "execution_count": null,
   "metadata": {},
   "outputs": [],
   "source": [
    "with open('/Users/mezaga93/Desktop/waveforms_ordered.pkl', 'rb') as f:\n",
    "  waveforms = pickle.load(f)"
   ]
  },
  {
   "cell_type": "code",
   "execution_count": null,
   "metadata": {},
   "outputs": [],
   "source": [
    "###normalizar y cambio de dimensionalidad\n",
    "mu_wave = np.mean(waveforms, axis= 1)[...,np.newaxis]\n",
    "max_wave = np.max(waveforms, axis=1)[...,np.newaxis]\n",
    "\n",
    "Xw = (waveforms-mu_wave)/max_wave\n",
    "print(Xw.shape)"
   ]
  },
  {
   "cell_type": "code",
   "execution_count": null,
   "metadata": {},
   "outputs": [],
   "source": [
    "Xw = Xw[...,np.newaxis][...,np.newaxis]\n",
    "print(Xw.shape)"
   ]
  },
  {
   "cell_type": "code",
   "execution_count": null,
   "metadata": {},
   "outputs": [],
   "source": [
    "class Sampling(layers.Layer):\n",
    "    \"\"\"Uses (z_mean, z_log_var) to sample z, the vector encoding a digit.\"\"\"\n",
    "    #@tf.function\n",
    "    def call(self, inputs):\n",
    "        z_mean, z_log_var = inputs\n",
    "        #z_mean = np.array([input[0]])\n",
    "        #z_log_var = np.array([input[1]])\n",
    "        batch = tf.shape(z_mean)[0]\n",
    "        dim = tf.shape(z_mean)[1]\n",
    "        epsilon = tf.keras.backend.random_normal(shape=(batch, dim))\n",
    "        return z_mean + tf.exp(0.5 * z_log_var) * epsilon"
   ]
  },
  {
   "cell_type": "code",
   "execution_count": null,
   "metadata": {},
   "outputs": [],
   "source": [
    "class KLDivergenceRegularizer(tf.keras.regularizers.Regularizer):\n",
    "  def __init__(self, iters: tf.Variable, warm_up_iters: int, latent_size: int):\n",
    "    self._iters = np.array([iters])\n",
    "    self._warm_up_iters = np.array([warm_up_iters])\n",
    "    self.latent_size = latent_size\n",
    "  \n",
    "  @tf.function\n",
    "  def __call__(self, activation):\n",
    "    # note: activity regularizers automatically divide by batch size\n",
    "    mu= activation[:self.latent_size]\n",
    "    log_var = activation[self.latent_size:]\n",
    "    k = np.min(self._iters / self._warm_up_iters)\n",
    "    return -0.5 * k * K.sum(1+ log_var - K.square(mu) - K.exp(log_var))"
   ]
  },
  {
   "cell_type": "code",
   "execution_count": null,
   "metadata": {},
   "outputs": [],
   "source": [
    "warm_up_iters = 1000 \n",
    "optimizer = tf.keras.optimizers.Adam(0.0001)"
   ]
  },
  {
   "cell_type": "code",
   "execution_count": null,
   "metadata": {},
   "outputs": [],
   "source": [
    "latent_dim = 128\n",
    "original_dim = (sr16k, 1, 1)\n",
    "encoder_inputs = keras.Input(original_dim)                                                   # bat, samps, ?, ch\n",
    "x = layers.Conv2D(64, (66,1), activation=\"relu\", padding=\"same\",strides=(4,1))(encoder_inputs) # [69, 48000, 1, 1] -> [69, 12000, 1, 64]\n",
    "x = layers.Conv2D(128,(66,1), activation=\"relu\", padding=\"same\",strides=(4,1))(x)\n",
    "x = layers.Conv2D(256,(66,1), activation=\"relu\", padding=\"same\",strides=(4,1))(x)\n",
    "latent = layers.Conv2D(512,(66,1), activation=\"relu\", padding=\"same\",strides=(3,1))(x)\n",
    "x = layers.Flatten()(x)\n",
    "x = layers.Dense(256, activation=\"relu\")(x)\n",
    "z_mean = layers.Dense(units=latent_dim, name='Z-Mean')(x) # Mean component\n",
    "z_log_sigma = layers.Dense(units=latent_dim, name='Z-Log-Sigma')(x) # Standard deviation component\n",
    "#######que pasa con z_regular nunca se usa?\n",
    "z_regular = tf.keras.layers.Concatenate(activity_regularizer= KLDivergenceRegularizer(optimizer.iterations, warm_up_iters,latent_dim))([z_mean,z_log_sigma])\n",
    "z = Sampling()([z_mean, z_log_sigma])\n",
    "#z = Sampling()(z_regular)\n",
    "vae_encoder = keras.Model(encoder_inputs, [z_mean, z_log_sigma, z], name=\"encoder_vae\")\n",
    "vae_encoder.summary()"
   ]
  },
  {
   "cell_type": "code",
   "execution_count": null,
   "metadata": {},
   "outputs": [],
   "source": [
    "latent_inputs = keras.Input(shape=(latent_dim,))\n",
    "x = layers.Dense(250 * 1 * 256, activation=\"relu\")(latent_inputs)\n",
    "x = layers.Reshape((250, 1, 256))(x)\n",
    "#x = layers.Conv2DTranspose(512,(4,1), activation=\"relu\",padding= \"same\",strides= (3,1))(x)\n",
    "x = layers.Conv2DTranspose(128,(66,1), activation=\"relu\",padding= \"same\",strides= (4,1))(x)\n",
    "x = layers.Conv2DTranspose(64,(66,1), activation=\"relu\",padding= \"same\",strides= (4,1))(x)\n",
    "#x = layers.Conv2DTranspose(64,(16,1), activation=\"relu\",padding= \"same\",strides=(4,1))(x)\n",
    "decoder_outputs = layers.Conv2DTranspose(1, (66, 1), activation=\"tanh\", padding=\"same\", strides = (4,1))(x)\n",
    "vae_decoder = keras.Model(latent_inputs, decoder_outputs, name=\"decoder_vae\")\n",
    "vae_decoder.summary()"
   ]
  },
  {
   "cell_type": "code",
   "execution_count": null,
   "metadata": {},
   "outputs": [],
   "source": [
    "# Define outputs from a VAE model by specifying how the encoder-decoder models are linked\n",
    "outpt = vae_decoder(vae_encoder(encoder_inputs)[2]) # note, outputs available from encoder model are z_mean, z_log_sigma and z. We take z by specifying [2]\n",
    "# Instantiate a VAE model\n",
    "vae = Model(inputs=encoder_inputs, outputs=outpt, name='VAE-Model')\n",
    "vae.compile(optimizer= optimizer,loss = 'mean_squared_error')"
   ]
  },
  {
   "cell_type": "code",
   "execution_count": null,
   "metadata": {},
   "outputs": [],
   "source": [
    "vae.load_weights(\"/Users/mezaga93/Desktop/checkpoints/checkpoint\")\n",
    "acc= vae.evaluate(Xw, Xw)\n",
    "print(\"Untrained model,error: {:5.2f}%\".format(100 * acc))"
   ]
  },
  {
   "cell_type": "code",
   "execution_count": null,
   "metadata": {},
   "outputs": [],
   "source": []
  }
 ],
 "metadata": {
  "language_info": {
   "name": "python"
  },
  "orig_nbformat": 4
 },
 "nbformat": 4,
 "nbformat_minor": 2
}
